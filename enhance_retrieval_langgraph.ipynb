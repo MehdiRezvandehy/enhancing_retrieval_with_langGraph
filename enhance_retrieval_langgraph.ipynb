{
 "cells": [
  {
   "cell_type": "markdown",
   "metadata": {},
   "source": [
    "<font size=\"6.2\">Summary</font>  "
   ]
  },
  {
   "attachments": {},
   "cell_type": "markdown",
   "metadata": {},
   "source": [
    "LangGraph is an open-source framework by LangChain designed for constructing advanced multi-agent workflows powered by large language models (LLMs). This notebook begins by exploring Corrective Retrieval-Augmented Generation (RAG) and demonstrating use cases that highlight how self-grading or self-reflection can improve retrieval accuracy. It then covers techniques for enhancing questions to optimize document search. Finally, LangGraph is used to implement Corrective RAG, refine queries, and perform web searches to produce more reliable results.\n",
    "\n",
    "Python functions and data files needed to run this notebook are available via this [link](https://github.com/MehdiRezvandehy/enhancing_retrieval_with_langGraph.git)."
   ]
  },
  {
   "cell_type": "markdown",
   "metadata": {},
   "source": [
    " "
   ]
  },
  {
   "cell_type": "code",
   "execution_count": 1,
   "metadata": {},
   "outputs": [
    {
     "name": "stderr",
     "output_type": "stream",
     "text": [
      "USER_AGENT environment variable not set, consider setting it to identify your requests.\n"
     ]
    }
   ],
   "source": [
    "import warnings\n",
    "warnings.filterwarnings('ignore')\n",
    "import os\n",
    "from langchain.text_splitter import RecursiveCharacterTextSplitter\n",
    "from langchain_community.document_loaders import WebBaseLoader\n",
    "from langchain_community.vectorstores import Chroma\n",
    "from langchain_openai import OpenAIEmbeddings\n",
    "from langchain_core.prompts import ChatPromptTemplate\n",
    "# pydantic libabray for defining the expected input and output\n",
    "from pydantic import BaseModel, Field\n",
    "from langchain_openai import ChatOpenAI\n",
    "\n",
    "# OpenAI key\n",
    "os.environ['OPENAI_API_KEY'] = 'sk-.............'"
   ]
  },
  {
   "cell_type": "markdown",
   "metadata": {},
   "source": [
    "  "
   ]
  },
  {
   "cell_type": "markdown",
   "metadata": {
    "toc": true
   },
   "source": [
    "<h1>Table of Contents<span class=\"tocSkip\"></span></h1>\n",
    "<div class=\"toc\"><ul class=\"toc-item\"><li><span><a href=\"#Corrective-Retrieval-Augmented-Generation\" data-toc-modified-id=\"Corrective-Retrieval-Augmented-Generation-1\"><span class=\"toc-item-num\">1&nbsp;&nbsp;</span>Corrective Retrieval Augmented Generation</a></span><ul class=\"toc-item\"><li><span><a href=\"#Introduction\" data-toc-modified-id=\"Introduction-1.1\"><span class=\"toc-item-num\">1.1&nbsp;&nbsp;</span>Introduction</a></span></li><li><span><a href=\"#Load-Documents\" data-toc-modified-id=\"Load-Documents-1.2\"><span class=\"toc-item-num\">1.2&nbsp;&nbsp;</span>Load Documents</a></span></li><li><span><a href=\"#Corrected-Retrieval\" data-toc-modified-id=\"Corrected-Retrieval-1.3\"><span class=\"toc-item-num\">1.3&nbsp;&nbsp;</span>Corrected Retrieval</a></span></li></ul></li><li><span><a href=\"#Prebuilt-RAG-Prompt-Template\" data-toc-modified-id=\"Prebuilt-RAG-Prompt-Template-2\"><span class=\"toc-item-num\">2&nbsp;&nbsp;</span>Prebuilt RAG Prompt Template</a></span><ul class=\"toc-item\"><li><span><a href=\"#Enhance-Questions-to-Optimize-Document-Search\" data-toc-modified-id=\"Enhance-Questions-to-Optimize-Document-Search-2.1\"><span class=\"toc-item-num\">2.1&nbsp;&nbsp;</span>Enhance Questions to Optimize Document Search</a></span></li></ul></li><li><span><a href=\"#Using-LangGraph-to-Construct-the-Graph\" data-toc-modified-id=\"Using-LangGraph-to-Construct-the-Graph-3\"><span class=\"toc-item-num\">3&nbsp;&nbsp;</span>Using <a href=\"https://www.langchain.com/\" rel=\"nofollow\" target=\"_blank\">LangGraph</a> to Construct the Graph</a></span><ul class=\"toc-item\"><li><span><a href=\"#Function-for-Graph's-Nodes\" data-toc-modified-id=\"Function-for-Graph's-Nodes-3.1\"><span class=\"toc-item-num\">3.1&nbsp;&nbsp;</span>Function for Graph's Nodes</a></span></li><li><span><a href=\"#Functions-for-Graph's-Edges\" data-toc-modified-id=\"Functions-for-Graph's-Edges-3.2\"><span class=\"toc-item-num\">3.2&nbsp;&nbsp;</span>Functions for Graph's Edges</a></span></li><li><span><a href=\"#Build-the-Graph\" data-toc-modified-id=\"Build-the-Graph-3.3\"><span class=\"toc-item-num\">3.3&nbsp;&nbsp;</span>Build the Graph</a></span></li><li><span><a href=\"#Run-the-Graph\" data-toc-modified-id=\"Run-the-Graph-3.4\"><span class=\"toc-item-num\">3.4&nbsp;&nbsp;</span>Run the Graph</a></span></li><li><span><a href=\"#Visualize-the-Graph\" data-toc-modified-id=\"Visualize-the-Graph-3.5\"><span class=\"toc-item-num\">3.5&nbsp;&nbsp;</span>Visualize the Graph</a></span></li></ul></li><li><span><a href=\"#Summary\" data-toc-modified-id=\"Summary-4\"><span class=\"toc-item-num\">4&nbsp;&nbsp;</span>Summary</a></span></li></ul></div>"
   ]
  },
  {
   "cell_type": "markdown",
   "metadata": {},
   "source": [
    "# Corrective Retrieval Augmented Generation\n",
    "## Introduction"
   ]
  },
  {
   "cell_type": "markdown",
   "metadata": {},
   "source": [
    "**Corrective RAG (CRAG)** is an enhanced version of the standard Retrieval-Augmented Generation (RAG) framework that introduces *self-reflection* and *corrective behavior* into the retrieval and generation process.\n",
    "\n",
    "\n",
    "🔍 **What is RAG?**\n",
    "\n",
    "Traditional **RAG** systems:\n",
    "1. **Retrieve** documents relevant to a query from a knowledge base.\n",
    "2. **Augment** the query with those documents.\n",
    "3. **Generate** an answer using a language model.\n",
    "\n",
    "But: RAG assumes the retriever always returns useful content—which isn’t always true.\n",
    "\n",
    "---\n",
    "\n",
    "✅ What is **Corrective RAG (CRAG)**?\n",
    "\n",
    "**CRAG** introduces a feedback loop where the system evaluates the quality of the retrieved documents *before* generating an answer.\n",
    "\n",
    "**Key Concepts in CRAG:**\n",
    "1. **Self-grading or Self-reflection**  \n",
    "   After retrieval, each document is graded for *relevance* using a language model.\n",
    "\n",
    "2. **Corrective Behavior**\n",
    "   - If **some documents are relevant**, proceed with generation (possibly filtering out irrelevant ones).\n",
    "   - If **no documents are relevant** or the model is **uncertain**, the system:\n",
    "     - Supplements or replaces retrieval by using a **secondary data source** (e.g., a web search like Tavily).\n",
    "     - Optionally rewrites the query to improve results."
   ]
  },
  {
   "cell_type": "markdown",
   "metadata": {},
   "source": [
    "## Load Documents"
   ]
  },
  {
   "cell_type": "markdown",
   "metadata": {},
   "source": [
    "LangGaph and LangChain give resuable modules"
   ]
  },
  {
   "cell_type": "code",
   "execution_count": 2,
   "metadata": {
    "colab": {
     "base_uri": "https://localhost:8080/"
    },
    "id": "-47NGgZAvFz-",
    "outputId": "72f0e0c9-0fa5-45b2-fd88-f3c9f710afa5",
    "scrolled": true
   },
   "outputs": [],
   "source": [
    "# Define source URLs to load articles from\n",
    "source_links = [\n",
    "    \"https://www.geeksforgeeks.org/region-proposal-network-rpn-in-object-detection/\",\n",
    "    \"https://medium.com/@codeplumber/region-proposal-network-rpn-backbone-of-faster-r-cnn-4a744a38d7f9/\",\n",
    "    \"https://www.geeksforgeeks.org/what-is-ordinal-data/\",\n",
    "    \"https://www.geeksforgeeks.org/introduction-convolution-neural-network/\",\n",
    "    \"https://d2l.ai/chapter_computer-vision/\"\n",
    "]\n",
    "\n",
    "# Load documents from the URLs\n",
    "raw_documents = [WebBaseLoader(link).load() for link in source_links]\n",
    "flattened_docs = [doc for group in raw_documents for doc in group]\n",
    "\n",
    "# Initialize a text splitter for chunking the documents\n",
    "chunker = RecursiveCharacterTextSplitter.from_tiktoken_encoder(\n",
    "    chunk_size=250, chunk_overlap=0\n",
    ")\n",
    "\n",
    "chunked_documents = chunker.split_documents(flattened_docs)\n",
    "\n",
    "# Create a vector store with embeddings\n",
    "doc_vectorstore = Chroma.from_documents(\n",
    "    documents=chunked_documents,\n",
    "    collection_name=\"cnn-rpn-knowledge-base\",\n",
    "    embedding=OpenAIEmbeddings(),\n",
    ")\n",
    "\n",
    "# Create a retriever from the vector store\n",
    "doc_retriever = doc_vectorstore.as_retriever()"
   ]
  },
  {
   "cell_type": "code",
   "execution_count": 3,
   "metadata": {
    "colab": {
     "base_uri": "https://localhost:8080/"
    },
    "id": "YxTG7Kk2xZhm",
    "outputId": "e08810b4-d44d-4fb6-d3e7-6dad5c406ad8"
   },
   "outputs": [
    {
     "name": "stderr",
     "output_type": "stream",
     "text": [
      "C:\\Users\\mrezv\\AppData\\Local\\Temp\\ipykernel_2128\\573328664.py:2: LangChainDeprecationWarning: The method `BaseRetriever.get_relevant_documents` was deprecated in langchain-core 0.1.46 and will be removed in 1.0. Use :meth:`~invoke` instead.\n",
      "  results = doc_retriever.get_relevant_documents(query)\n"
     ]
    },
    {
     "name": "stdout",
     "output_type": "stream",
     "text": [
      "Anchor boxes are boxes generated at image dimensio ... https://www.geeksforgeeks.org/region-proposal-network-rpn-in-object-detection/\n",
      "k is decided, K=9 for this case, k being the numbe ... https://medium.com/@codeplumber/region-proposal-network-rpn-backbone-of-faster-r-cnn-4a744a38d7f9/\n",
      "Object Detection  vs Object Recognition vs Image S ... https://www.geeksforgeeks.org/introduction-convolution-neural-network/\n",
      "Interquartile Range (IQR): Calculate the IQR, whic ... https://www.geeksforgeeks.org/what-is-ordinal-data/\n"
     ]
    }
   ],
   "source": [
    "query = \"What is Intersection-Over-Union?\"\n",
    "results = doc_retriever.get_relevant_documents(query)\n",
    "\n",
    "for result in results:\n",
    "    print(result.page_content[:50], '...', result.metadata['source'])"
   ]
  },
  {
   "cell_type": "markdown",
   "metadata": {},
   "source": [
    " "
   ]
  },
  {
   "cell_type": "markdown",
   "metadata": {},
   "source": [
    "## Corrected Retrieval\n",
    "Assign a 'Relevant' or 'Not Relevant' label to each retrieved document depending on its relevance."
   ]
  },
  {
   "cell_type": "code",
   "execution_count": 4,
   "metadata": {
    "colab": {
     "base_uri": "https://localhost:8080/"
    },
    "id": "MhapNmaowfp-",
    "outputId": "98a6405d-d1bb-49bb-93a1-cb99e4c2636f"
   },
   "outputs": [
    {
     "name": "stdout",
     "output_type": "stream",
     "text": [
      "Question: What is Intersection-Over-Union?\n",
      "\n",
      "relevance='Yes'\n",
      "document: Anchor boxes are boxes generated at image dimensio\n",
      "source: https://www.geeksforgeeks.org/region-proposal-network-rpn-in-object-detection/\n",
      "--------------------------------------------\n",
      "relevance='No'\n",
      "document: k is decided, K=9 for this case, k being the numbe\n",
      "source: https://medium.com/@codeplumber/region-proposal-network-rpn-backbone-of-faster-r-cnn-4a744a38d7f9/\n",
      "--------------------------------------------\n",
      "relevance='No'\n",
      "document: Object Detection  vs Object Recognition vs Image S\n",
      "source: https://www.geeksforgeeks.org/introduction-convolution-neural-network/\n",
      "--------------------------------------------\n",
      "relevance='No'\n",
      "document: Interquartile Range (IQR): Calculate the IQR, whic\n",
      "source: https://www.geeksforgeeks.org/what-is-ordinal-data/\n",
      "--------------------------------------------\n"
     ]
    }
   ],
   "source": [
    "# Custom schema for grading document relevance\n",
    "class RelevanceScore(BaseModel):\n",
    "    \"\"\"Binary relevance indicator for retrieved content.\"\"\"\n",
    "\n",
    "    relevance: str = Field(\n",
    "        description=\"Indicates if the document answers the question: 'yes' or 'no'\"\n",
    "    )\n",
    "\n",
    "# LLM setup with structured output schema\n",
    "grader_model = ChatOpenAI(model=\"gpt-4o-mini\", temperature=0)\n",
    "\n",
    "# Bind LLM with the output schema\n",
    "structured_grader = grader_model.with_structured_output(RelevanceScore)\n",
    "\n",
    "# Prompt definition\n",
    "grading_instruction = \"\"\"Return 'Yes' or 'No' to indicate if the document is relevant to the given question.\"\"\"\n",
    "grading_prompt = ChatPromptTemplate.from_messages(\n",
    "    [\n",
    "        (\"system\", grading_instruction),\n",
    "        (\"human\", \"Retrieved document: \\n\\n {document} \\n\\n User question: {question}\"),\n",
    "    ]\n",
    ")\n",
    "\n",
    "# Composing the grader pipeline\n",
    "document_grader = grading_prompt | structured_grader\n",
    "\n",
    "# Iterate over retrieved documents and evaluate relevance\n",
    "print(f'Question: {query}\\n')\n",
    "for result in results:\n",
    "    content = result.page_content\n",
    "    evaluation = document_grader.invoke({\"document\": content, \"question\": query})\n",
    "    source = result.metadata['source']\n",
    "    print(f'{evaluation}\\ndocument: {content[:50]}\\nsource: {source}')\n",
    "    print('--------------------------------------------')"
   ]
  },
  {
   "cell_type": "markdown",
   "metadata": {},
   "source": [
    "Only https://www.geeksforgeeks.org/region-proposal-network-rpn-in-object-detection/ has relevance 'yes'"
   ]
  },
  {
   "cell_type": "markdown",
   "metadata": {
    "id": "H2X8QeJkxye7"
   },
   "source": [
    "# Prebuilt RAG Prompt Template"
   ]
  },
  {
   "cell_type": "code",
   "execution_count": 5,
   "metadata": {
    "colab": {
     "base_uri": "https://localhost:8080/"
    },
    "id": "Yfm8E7gvwu3C",
    "outputId": "8d6e0406-b041-448c-eaad-9cefbb745fc0"
   },
   "outputs": [
    {
     "name": "stdout",
     "output_type": "stream",
     "text": [
      "<class 'langchain_core.prompts.chat.HumanMessagePromptTemplate'>\n",
      "You are an assistant for question-answering tasks. Use the following pieces of retrieved context to answer the question. If you don't know the answer, just say that you don't know. Use three sentences maximum and keep the answer concise.\n",
      "Question: {question} \n",
      "Context: {context} \n",
      "Answer:\n",
      "--------------------------------------------\n"
     ]
    }
   ],
   "source": [
    "from langchain import hub\n",
    "\n",
    "# Load a prebuilt RAG prompt template from the LangChain hub\n",
    "rag_prompt_template = hub.pull(\"rlm/rag-prompt\")\n",
    "\n",
    "# Display the type and content of each message in the prompt template\n",
    "for msg in rag_prompt_template.messages:\n",
    "    print(type(msg))\n",
    "    print(msg.prompt.template)\n",
    "    print('--------------------------------------------')"
   ]
  },
  {
   "cell_type": "markdown",
   "metadata": {},
   "source": [
    " "
   ]
  },
  {
   "cell_type": "code",
   "execution_count": 6,
   "metadata": {
    "colab": {
     "base_uri": "https://localhost:8080/"
    },
    "id": "bUzV8hwgx0G0",
    "outputId": "78fd6604-2e40-4979-992e-c79323472b8e"
   },
   "outputs": [
    {
     "name": "stdout",
     "output_type": "stream",
     "text": [
      "Intersection-Over-Union (IoU) is a metric used to evaluate the overlap between an anchor box and the object of interest. It is calculated as the ratio of the area of intersection to the area of union of the two boxes. An IoU value greater than 0.7 typically indicates that the anchor box contains a foreground object.\n"
     ]
    }
   ],
   "source": [
    "from langchain_core.output_parsers import StrOutputParser\n",
    "\n",
    "# Initialize the language model\n",
    "chat_model = ChatOpenAI(model_name=\"gpt-4o-mini\", temperature=0)\n",
    "\n",
    "# Helper function to format retrieved documents\n",
    "def join_documents(docs):\n",
    "    return \"\\n\\n\".join(doc.page_content for doc in docs)\n",
    "\n",
    "# Construct the RAG pipeline\n",
    "# Note: StrOutputParser() ensures clean string output from the LLM\n",
    "rag_pipeline = rag_prompt_template | chat_model | StrOutputParser()\n",
    "\n",
    "# Execute the chain with context and question\n",
    "response = rag_pipeline.invoke({\n",
    "    \"context\": join_documents(results),\n",
    "    \"question\": query\n",
    "})\n",
    "\n",
    "print(response)"
   ]
  },
  {
   "cell_type": "markdown",
   "metadata": {},
   "source": [
    " "
   ]
  },
  {
   "cell_type": "markdown",
   "metadata": {},
   "source": [
    "## Enhance Questions to Optimize Document Search"
   ]
  },
  {
   "cell_type": "code",
   "execution_count": 7,
   "metadata": {
    "colab": {
     "base_uri": "https://localhost:8080/"
    },
    "id": "rX5WDbN6z010",
    "outputId": "b558819c-b304-4107-c5ce-320b4de76d03"
   },
   "outputs": [
    {
     "name": "stdout",
     "output_type": "stream",
     "text": [
      "Original question: What is Intersection-Over-Union?\n",
      "Optimized question: What is the definition and significance of Intersection-Over-Union (IoU) in the context of computer vision or object detection?\n"
     ]
    }
   ],
   "source": [
    "# Using a different LLM model to demonstrate flexibility in multi-model usage\n",
    "search_optimizer_llm = ChatOpenAI(model=\"gpt-3.5-turbo\", temperature=0)\n",
    "\n",
    "# Prompt template for rewriting questions to be more effective for web search\n",
    "system_instruction = \"\"\"You are a query rewriter that improves an input question for optimal web search results. \n",
    "Analyze the question and identify its underlying semantic intent or meaning.\"\"\"\n",
    "\n",
    "query_rewrite_prompt = ChatPromptTemplate.from_messages(\n",
    "    [\n",
    "        (\"system\", system_instruction),\n",
    "        (\n",
    "            \"human\",\n",
    "            \"Here is the original query: \\n\\n {question} \\n Please rewrite it to be more effective.\",\n",
    "        ),\n",
    "    ]\n",
    ")\n",
    "\n",
    "# Construct the pipeline: prompt -> LLM -> output parser\n",
    "query_optimizer = query_rewrite_prompt | search_optimizer_llm | StrOutputParser()\n",
    "\n",
    "# Execute with a sample question\n",
    "print(f\"Original question: {query}\")\n",
    "optimized_query = query_optimizer.invoke({\"question\": query})\n",
    "print(f\"Optimized question: {optimized_query}\")\n"
   ]
  },
  {
   "cell_type": "markdown",
   "metadata": {},
   "source": [
    "# Using [LangGraph](https://www.langchain.com/) to Construct the Graph"
   ]
  },
  {
   "cell_type": "markdown",
   "metadata": {},
   "source": [
    "[LangGraph](https://www.langchain.com/) is an open-source framework developed by LangChain for building complex, multi-agent workflows using large language models (LLMs). Unlike traditional linear pipelines, LangGraph employs a graph-based architecture where agents—each handling specific tasks—are represented as nodes, and their interactions are defined by edges, allowing for dynamic, stateful, and iterative processes.\n",
    "\n",
    "This design enables the creation of sophisticated AI systems where agents can collaborate, adapt based on feedback, and incorporate human-in-the-loop interactions, making it particularly effective for applications requiring modularity, scalability, and flexibility "
   ]
  },
  {
   "cell_type": "code",
   "execution_count": 8,
   "metadata": {
    "id": "9MlJ26oXzJqw"
   },
   "outputs": [],
   "source": [
    "from typing import List\n",
    "from typing_extensions import TypedDict\n",
    "\n",
    "# Define a structured dictionary to track the workflow state of the graph process\n",
    "class PipelineState(TypedDict):\n",
    "    \"\"\"\n",
    "    A dictionary-style representation of the current state in the graph-based pipeline.\n",
    "\n",
    "    Attributes:\n",
    "        user_query (str): The original or reformulated question.\n",
    "        llm_output (str): The response generated by the language model.\n",
    "        retrieved_docs (List[str]): A collection of documents retrieved based on the query.\n",
    "        rewrite_count (int): Number of times the query has been rephrased.\n",
    "        enable_web_search (str): Placeholder indicating if a web search should be triggered\n",
    "                                 (functionality not implemented in this version).\n",
    "    \"\"\"\n",
    "\n",
    "    query: str\n",
    "    llm_output: str\n",
    "    retrieved_docs: List[str]\n",
    "    rewrite_count: int\n",
    "    enable_web_search: str\n"
   ]
  },
  {
   "cell_type": "markdown",
   "metadata": {},
   "source": [
    "## Function for Graph's Nodes"
   ]
  },
  {
   "cell_type": "markdown",
   "metadata": {},
   "source": [
    "This section defines a set of modular functions that operate on a shared query state to build a retrieval-augmented generation (RAG) pipeline. Each function is responsible for a specific step in the process and modifies or extends the shared QueryState dictionary.\n",
    "\n",
    "The overall flow is structured to be stateful and composable, making it suitable for integration with graph-based execution frameworks like LangGraph."
   ]
  },
  {
   "cell_type": "code",
   "execution_count": 9,
   "metadata": {},
   "outputs": [],
   "source": [
    "from langchain.schema import Document\n",
    "\n",
    "def initialize_state(query_state):\n",
    "    \"\"\"\n",
    "    Initializes values in the query state.\n",
    "\n",
    "    Args:\n",
    "        query_state (dict): The current state of the query workflow.\n",
    "\n",
    "    Returns:\n",
    "        dict: State dictionary with initialized rewrite_count.\n",
    "    \"\"\"\n",
    "    print(\"---INITIALIZE QUERY STATE---\")\n",
    "    return {\"rewrite_count\": 0}\n",
    "\n",
    "\n",
    "def fetch_documents(query_state):\n",
    "    \"\"\"\n",
    "    Retrieves relevant documents for the given query.\n",
    "\n",
    "    Args:\n",
    "        query_state (dict): The current state of the query workflow.\n",
    "\n",
    "    Returns:\n",
    "        dict: An updated state dictionary with a new key 'retrieved_docs'.\n",
    "    \"\"\"\n",
    "    print(query_state)\n",
    "    print(\"---FETCH DOCUMENTS---\")\n",
    "\n",
    "    query = query_state[\"query\"]\n",
    "\n",
    "    # Perform document retrieval\n",
    "    relevant_docs = doc_retriever.get_relevant_documents(query)\n",
    "    return {\"retrieved_docs\": relevant_docs}\n",
    "\n",
    "\n",
    "def filter_relevant_documents(query_state):\n",
    "    \"\"\"\n",
    "    Evaluates and filters retrieved documents for relevance to the query.\n",
    "\n",
    "    Args:\n",
    "        query_state (dict): The current state of the query workflow.\n",
    "\n",
    "    Returns:\n",
    "        dict: Updated state with only relevant documents and web search indicator.\n",
    "    \"\"\"\n",
    "    print(\"---EVALUATE DOCUMENT RELEVANCE---\")\n",
    "    query = query_state[\"query\"]\n",
    "    documents = query_state[\"retrieved_docs\"]\n",
    "\n",
    "    filtered_results = []\n",
    "    should_perform_web_search = \"No\"\n",
    "\n",
    "    for doc in documents:\n",
    "        score = document_grader.invoke({\n",
    "            \"question\": query,\n",
    "            \"document\": doc.page_content\n",
    "        })\n",
    "        is_relevant = score.relevance\n",
    "        print(doc.metadata.get('source', 'Unknown'), f'Score: {is_relevant}')\n",
    "\n",
    "        if is_relevant == \"Yes\":\n",
    "            print(\"---DOCUMENT IS RELEVANT---\")\n",
    "            filtered_results.append(doc)\n",
    "\n",
    "    if not filtered_results:\n",
    "        print(\"---NO RELEVANT DOCUMENTS FOUND---\")\n",
    "        should_perform_web_search = \"Yes\"\n",
    "\n",
    "    return {\n",
    "        \"retrieved_docs\": filtered_results,\n",
    "        \"perform_web_search\": should_perform_web_search\n",
    "    }\n",
    "\n",
    "\n",
    "def refine_query(query_state):\n",
    "    \"\"\"\n",
    "    Rewrites the input query to improve clarity and search effectiveness.\n",
    "\n",
    "    Args:\n",
    "        query_state (dict): The current state of the query workflow.\n",
    "\n",
    "    Returns:\n",
    "        dict: Updated state with a refined query and incremented transformation count.\n",
    "    \"\"\"\n",
    "    print(\"---REFINE QUERY---\")\n",
    "\n",
    "    query = query_state[\"query\"]\n",
    "    rewrite_count = query_state[\"rewrite_count\"] + 1\n",
    "\n",
    "    # Rewrite the query using a question rewriter\n",
    "    improved_query = query_optimizer.invoke({\"question\": query})\n",
    "\n",
    "    print(\"---IMPROVED QUERY---\")\n",
    "    print(improved_query)\n",
    "\n",
    "    return {\n",
    "        \"query\": improved_query,\n",
    "        \"rewrite_count\": rewrite_count}\n",
    "\n",
    "\n",
    "def generate_response(query_state):\n",
    "    \"\"\"\n",
    "    Generates a response using RAG (Retrieval-Augmented Generation).\n",
    "\n",
    "    Args:\n",
    "        query_state (dict): The current state of the query workflow.\n",
    "\n",
    "    Returns:\n",
    "        dict: An updated state dictionary with a new key 'llm_output'.\n",
    "    \"\"\"\n",
    "    print(\"---GENERATE RESPONSE---\")\n",
    "\n",
    "    query = query_state[\"query\"]\n",
    "    documents = query_state[\"retrieved_docs\"]\n",
    "\n",
    "    # Generate an answer using RAG\n",
    "    response = rag_pipeline.invoke({\n",
    "        \"context\": join_documents(documents),\n",
    "        \"question\": query\n",
    "    })\n",
    "\n",
    "    return {\"llm_output\": response}\n"
   ]
  },
  {
   "cell_type": "markdown",
   "metadata": {},
   "source": [
    " "
   ]
  },
  {
   "cell_type": "markdown",
   "metadata": {},
   "source": [
    "## Functions for Graph's Edges"
   ]
  },
  {
   "cell_type": "markdown",
   "metadata": {},
   "source": [
    "You can get your API key from https://app.tavily.com"
   ]
  },
  {
   "cell_type": "code",
   "execution_count": 10,
   "metadata": {},
   "outputs": [],
   "source": [
    "os.environ[\"TAVILY_API_KEY\"] = \"tvly-............\""
   ]
  },
  {
   "cell_type": "code",
   "execution_count": 11,
   "metadata": {
    "id": "dE99Sfa-zOvA"
   },
   "outputs": [],
   "source": [
    "from langchain.utilities.tavily_search import TavilySearchAPIWrapper\n",
    "from langchain.schema.document import Document\n",
    "\n",
    "def web_search(query_state):\n",
    "    \"\"\"\n",
    "    Executes a web search using the given query and returns a list of document objects.\n",
    "\n",
    "    Args:\n",
    "        query_state: The current query state containing the search question.\n",
    "\n",
    "    Returns:\n",
    "        Dict[str, Any]: Updated state including the original question and retrieved documents.\n",
    "    \"\"\"\n",
    "    query = query_state[\"query\"]\n",
    "\n",
    "    search_client = TavilySearchAPIWrapper()\n",
    "    search_results = search_client.results(query=query, max_results=3)\n",
    "\n",
    "    retrieved_docs = [\n",
    "        Document(page_content=item[\"content\"], metadata={\"source\": item[\"url\"]})\n",
    "        for item in search_results\n",
    "    ]\n",
    "\n",
    "    return {\n",
    "        \"query\": query,\n",
    "        \"retrieved_docs\": retrieved_docs\n",
    "    }\n",
    "\n",
    "\n",
    "def decide_next_action(query_state):\n",
    "    \"\"\"\n",
    "    Determines the next step in the workflow: whether to generate an answer\n",
    "    or rephrase the query again for better document retrieval.\n",
    "\n",
    "    Args:\n",
    "        query_state (dict): The current state of the query process.\n",
    "\n",
    "    Returns:\n",
    "        str: The next action to take - either 'if_generate' or 'if_transform_query'.\n",
    "    \"\"\"\n",
    "\n",
    "    print(\"---ASSESSING DOCUMENT RELEVANCE---\")\n",
    "    requires_web_search = query_state[\"perform_web_search\"]\n",
    "\n",
    "    if requires_web_search == \"Yes\":\n",
    "        # If the query has already been transformed multiple times with no success,\n",
    "        # proceed to generate an answer anyway.\n",
    "        if query_state[\"rewrite_count\"] >= 3:\n",
    "            print(\n",
    "                \"---DECISION: MAX REWRITES REACHED AND NO RELEVANT DOCUMENTS FOUND → LETS APPLY WEB SEARCH---\"\n",
    "            )        \n",
    "            \n",
    "            return \"apply_web_search\"\n",
    "\n",
    "        # Still below the rewrite threshold; attempt another reformulation.\n",
    "        print(\n",
    "            \"---DECISION: NO RELEVANT DOCUMENTS FOUND YET → TRANSFORM QUERY AGAIN---\"\n",
    "        )\n",
    "        return \"apply_transform_query\"\n",
    "\n",
    "    else:\n",
    "        # Relevant documents are present; move on to answer generation.\n",
    "        print(\"---DECISION: RELEVANT DOCUMENTS FOUND → GENERATE---\")\n",
    "        return \"apply_generate\"\n"
   ]
  },
  {
   "cell_type": "markdown",
   "metadata": {},
   "source": [
    "## Build the Graph"
   ]
  },
  {
   "cell_type": "code",
   "execution_count": 12,
   "metadata": {
    "id": "z2wbXWAAzm1k"
   },
   "outputs": [],
   "source": [
    "from langgraph.graph import START, END, StateGraph\n",
    "\n",
    "# Create a new stateful graph using the defined PipelineState structure\n",
    "pipeline_graph = StateGraph(PipelineState)\n",
    "\n",
    "# Register processing steps (nodes) in the graph\n",
    "pipeline_graph.add_node(\"initialize_state\", initialize_state)                   # Step 1: Initialize state\n",
    "pipeline_graph.add_node(\"fetch_documents\", fetch_documents)                     # Step 2: Retrieve documents\n",
    "pipeline_graph.add_node(\"filter_relevant_documents\", filter_relevant_documents) # Step 3: Grade relevance\n",
    "pipeline_graph.add_node(\"generate_response\", generate_response)                 # Step 4: Generate answer\n",
    "pipeline_graph.add_node(\"refine_query\", refine_query)                           # Step 5: Refine query if needed\n",
    "pipeline_graph.add_node(\"web_search\", web_search)                               # Step 6: Web search\n",
    "\n",
    "# Define the workflow logic by adding edges between steps (nodes)\n",
    "pipeline_graph.add_edge(START, \"initialize_state\")\n",
    "pipeline_graph.add_edge(\"initialize_state\", \"fetch_documents\")\n",
    "pipeline_graph.add_edge(\"fetch_documents\", \"filter_relevant_documents\")\n",
    "\n",
    "# Add branching logic after grading based on decision function\n",
    "pipeline_graph.add_conditional_edges(\n",
    "    \"filter_relevant_documents\",\n",
    "    decide_next_action,\n",
    "    {\n",
    "        \"apply_transform_query\": \"refine_query\",\n",
    "        \"apply_web_search\": \"web_search\",\n",
    "        \"apply_generate\": \"generate_response\",\n",
    "    }\n",
    ")\n",
    "\n",
    "# Handle loopback and termination\n",
    "pipeline_graph.add_edge(\"refine_query\", \"fetch_documents\")\n",
    "pipeline_graph.add_edge(\"web_search\", \"generate_response\")\n",
    "pipeline_graph.add_edge(\"generate_response\", END)\n",
    "\n",
    "# Finalize and compile the pipeline\n",
    "retrieval_qa_pipeline = pipeline_graph.compile()"
   ]
  },
  {
   "cell_type": "code",
   "execution_count": 13,
   "metadata": {},
   "outputs": [
    {
     "data": {
      "image/png": "[encoded data removed]",
      "text/plain": [
       "<langgraph.graph.state.CompiledStateGraph object at 0x000001491FFA9DF0>"
      ]
     },
     "execution_count": 13,
     "metadata": {},
     "output_type": "execute_result"
    }
   ],
   "source": [
    "retrieval_qa_pipeline"
   ]
  },
  {
   "cell_type": "markdown",
   "metadata": {},
   "source": [
    " "
   ]
  },
  {
   "cell_type": "markdown",
   "metadata": {},
   "source": [
    "## Run the Graph"
   ]
  },
  {
   "cell_type": "markdown",
   "metadata": {},
   "source": [
    "* **Query 1**"
   ]
  },
  {
   "cell_type": "code",
   "execution_count": 14,
   "metadata": {
    "colab": {
     "base_uri": "https://localhost:8080/"
    },
    "id": "aJ_wjx_M3Db-",
    "outputId": "6ab8e986-702b-4a26-b4ca-74a0ec593d60"
   },
   "outputs": [
    {
     "name": "stdout",
     "output_type": "stream",
     "text": [
      "---INITIALIZE QUERY STATE---\n",
      "\n",
      "\n",
      "Node 'initialize_state':\n",
      "{'query': 'What is feature map?', 'rewrite_count': 0}\n",
      "---FETCH DOCUMENTS---\n",
      "\n",
      "\n",
      "Node 'fetch_documents':\n",
      "---EVALUATE DOCUMENT RELEVANCE---\n",
      "https://www.geeksforgeeks.org/introduction-convolution-neural-network/ Score: No\n",
      "https://medium.com/@codeplumber/region-proposal-network-rpn-backbone-of-faster-r-cnn-4a744a38d7f9/ Score: No\n",
      "https://www.geeksforgeeks.org/introduction-convolution-neural-network/ Score: Yes\n",
      "---DOCUMENT IS RELEVANT---\n",
      "https://www.geeksforgeeks.org/introduction-convolution-neural-network/ Score: No\n",
      "---ASSESSING DOCUMENT RELEVANCE---\n",
      "---DECISION: RELEVANT DOCUMENTS FOUND → GENERATE---\n",
      "\n",
      "\n",
      "Node 'filter_relevant_documents':\n",
      "---GENERATE RESPONSE---\n",
      "\n",
      "\n",
      "Node 'generate_response':\n",
      "A feature map is the output generated by a convolutional layer in a neural network after applying filters to the input data. It represents the extracted features from the input images, with dimensions determined by the size of the input and the number of filters used. For example, using 12 filters on an input of size 32 x 32 results in a feature map of size 32 x 32 x 12.\n"
     ]
    }
   ],
   "source": [
    "inputs = {\"query\": \"What is feature map?\"}\n",
    "for output in retrieval_qa_pipeline.stream(inputs):\n",
    "    for key, value in output.items():\n",
    "        # Node\n",
    "        print(\"\\n\")\n",
    "        print(f\"Node '{key}':\")\n",
    "# Final generation\n",
    "print(value[\"llm_output\"])"
   ]
  },
  {
   "cell_type": "markdown",
   "metadata": {},
   "source": [
    "  "
   ]
  },
  {
   "cell_type": "markdown",
   "metadata": {},
   "source": [
    "* **Query 2**"
   ]
  },
  {
   "cell_type": "code",
   "execution_count": 15,
   "metadata": {
    "colab": {
     "base_uri": "https://localhost:8080/"
    },
    "id": "aJ_wjx_M3Db-",
    "outputId": "6ab8e986-702b-4a26-b4ca-74a0ec593d60"
   },
   "outputs": [
    {
     "name": "stdout",
     "output_type": "stream",
     "text": [
      "---INITIALIZE QUERY STATE---\n",
      "\n",
      "\n",
      "Node 'initialize_state':\n",
      "{'query': 'What is Intersection-Over-Union?', 'rewrite_count': 0}\n",
      "---FETCH DOCUMENTS---\n",
      "\n",
      "\n",
      "Node 'fetch_documents':\n",
      "---EVALUATE DOCUMENT RELEVANCE---\n",
      "https://www.geeksforgeeks.org/region-proposal-network-rpn-in-object-detection/ Score: Yes\n",
      "---DOCUMENT IS RELEVANT---\n",
      "https://medium.com/@codeplumber/region-proposal-network-rpn-backbone-of-faster-r-cnn-4a744a38d7f9/ Score: No\n",
      "https://www.geeksforgeeks.org/introduction-convolution-neural-network/ Score: No\n",
      "https://www.geeksforgeeks.org/what-is-ordinal-data/ Score: No\n",
      "---ASSESSING DOCUMENT RELEVANCE---\n",
      "---DECISION: RELEVANT DOCUMENTS FOUND → GENERATE---\n",
      "\n",
      "\n",
      "Node 'filter_relevant_documents':\n",
      "---GENERATE RESPONSE---\n",
      "\n",
      "\n",
      "Node 'generate_response':\n",
      "Intersection-Over-Union (IoU) is a metric used to evaluate the overlap between an anchor box and the object of interest. It is calculated as the ratio of the area of intersection to the area of the union of the two boxes. An IoU value greater than 0.7 typically indicates that the anchor box contains a foreground object.\n"
     ]
    }
   ],
   "source": [
    "inputs = {\"query\": \"What is Intersection-Over-Union?\"}\n",
    "for output in retrieval_qa_pipeline.stream(inputs):\n",
    "    for key, value in output.items():\n",
    "        # Node\n",
    "        print(\"\\n\")\n",
    "        print(f\"Node '{key}':\")\n",
    "# Final generation\n",
    "print(value[\"llm_output\"])"
   ]
  },
  {
   "cell_type": "markdown",
   "metadata": {},
   "source": [
    "  "
   ]
  },
  {
   "cell_type": "markdown",
   "metadata": {},
   "source": [
    "* **Query 3**"
   ]
  },
  {
   "cell_type": "code",
   "execution_count": 16,
   "metadata": {
    "colab": {
     "base_uri": "https://localhost:8080/"
    },
    "id": "aJ_wjx_M3Db-",
    "outputId": "6ab8e986-702b-4a26-b4ca-74a0ec593d60"
   },
   "outputs": [
    {
     "name": "stdout",
     "output_type": "stream",
     "text": [
      "---INITIALIZE QUERY STATE---\n",
      "\n",
      "\n",
      "Node 'initialize_state':\n",
      "{'query': 'What is Ordinal Chi-Square Test?', 'rewrite_count': 0}\n",
      "---FETCH DOCUMENTS---\n",
      "\n",
      "\n",
      "Node 'fetch_documents':\n",
      "---EVALUATE DOCUMENT RELEVANCE---\n",
      "https://www.geeksforgeeks.org/what-is-ordinal-data/ Score: Yes\n",
      "---DOCUMENT IS RELEVANT---\n",
      "https://www.geeksforgeeks.org/what-is-ordinal-data/ Score: No\n",
      "https://www.geeksforgeeks.org/what-is-ordinal-data/ Score: No\n",
      "https://www.geeksforgeeks.org/what-is-ordinal-data/ Score: No\n",
      "---ASSESSING DOCUMENT RELEVANCE---\n",
      "---DECISION: RELEVANT DOCUMENTS FOUND → GENERATE---\n",
      "\n",
      "\n",
      "Node 'filter_relevant_documents':\n",
      "---GENERATE RESPONSE---\n",
      "\n",
      "\n",
      "Node 'generate_response':\n",
      "The Ordinal Chi-Square Test is used to determine if there is a significant connection between two or more ordinal variables. It is particularly useful for analyzing relationships in contingency tables that contain ordinal data.\n"
     ]
    }
   ],
   "source": [
    "inputs = {\"query\": \"What is Ordinal Chi-Square Test?\"}\n",
    "for output in retrieval_qa_pipeline.stream(inputs):\n",
    "    for key, value in output.items():\n",
    "        # Node\n",
    "        print(\"\\n\")\n",
    "        print(f\"Node '{key}':\")\n",
    "# Final generation\n",
    "print(value[\"llm_output\"])"
   ]
  },
  {
   "cell_type": "markdown",
   "metadata": {},
   "source": [
    "* **Query 4**"
   ]
  },
  {
   "cell_type": "code",
   "execution_count": 17,
   "metadata": {
    "colab": {
     "base_uri": "https://localhost:8080/"
    },
    "id": "qPsnn1CG5QHG",
    "outputId": "8f9299f3-22d4-4101-e7dc-9dbecdd84fea"
   },
   "outputs": [
    {
     "name": "stdout",
     "output_type": "stream",
     "text": [
      "---INITIALIZE QUERY STATE---\n",
      "\n",
      "\n",
      "Node 'initialize_state':\n",
      "{'query': 'What is the deepest lake on the world?', 'rewrite_count': 0}\n",
      "---FETCH DOCUMENTS---\n",
      "\n",
      "\n",
      "Node 'fetch_documents':\n",
      "---EVALUATE DOCUMENT RELEVANCE---\n",
      "https://d2l.ai/chapter_computer-vision/ Score: No\n",
      "https://www.geeksforgeeks.org/region-proposal-network-rpn-in-object-detection/ Score: No\n",
      "https://www.geeksforgeeks.org/introduction-convolution-neural-network/ Score: No\n",
      "https://www.geeksforgeeks.org/introduction-convolution-neural-network/ Score: No\n",
      "---NO RELEVANT DOCUMENTS FOUND---\n",
      "---ASSESSING DOCUMENT RELEVANCE---\n",
      "---DECISION: NO RELEVANT DOCUMENTS FOUND YET → TRANSFORM QUERY AGAIN---\n",
      "\n",
      "\n",
      "Node 'filter_relevant_documents':\n",
      "---REFINE QUERY---\n",
      "---IMPROVED QUERY---\n",
      "What is the deepest lake in the world?\n",
      "\n",
      "\n",
      "Node 'refine_query':\n",
      "{'query': 'What is the deepest lake in the world?', 'retrieved_docs': [], 'rewrite_count': 1}\n",
      "---FETCH DOCUMENTS---\n",
      "\n",
      "\n",
      "Node 'fetch_documents':\n",
      "---EVALUATE DOCUMENT RELEVANCE---\n",
      "https://d2l.ai/chapter_computer-vision/ Score: No\n",
      "https://www.geeksforgeeks.org/region-proposal-network-rpn-in-object-detection/ Score: No\n",
      "https://www.geeksforgeeks.org/introduction-convolution-neural-network/ Score: No\n",
      "https://www.geeksforgeeks.org/introduction-convolution-neural-network/ Score: No\n",
      "---NO RELEVANT DOCUMENTS FOUND---\n",
      "---ASSESSING DOCUMENT RELEVANCE---\n",
      "---DECISION: NO RELEVANT DOCUMENTS FOUND YET → TRANSFORM QUERY AGAIN---\n",
      "\n",
      "\n",
      "Node 'filter_relevant_documents':\n",
      "---REFINE QUERY---\n",
      "---IMPROVED QUERY---\n",
      "What is the name of the deepest lake on Earth?\n",
      "\n",
      "\n",
      "Node 'refine_query':\n",
      "{'query': 'What is the name of the deepest lake on Earth?', 'retrieved_docs': [], 'rewrite_count': 2}\n",
      "---FETCH DOCUMENTS---\n",
      "\n",
      "\n",
      "Node 'fetch_documents':\n",
      "---EVALUATE DOCUMENT RELEVANCE---\n",
      "https://www.geeksforgeeks.org/region-proposal-network-rpn-in-object-detection/ Score: No\n",
      "https://d2l.ai/chapter_computer-vision/ Score: No\n",
      "https://www.geeksforgeeks.org/introduction-convolution-neural-network/ Score: No\n",
      "https://www.geeksforgeeks.org/introduction-convolution-neural-network/ Score: No\n",
      "---NO RELEVANT DOCUMENTS FOUND---\n",
      "---ASSESSING DOCUMENT RELEVANCE---\n",
      "---DECISION: NO RELEVANT DOCUMENTS FOUND YET → TRANSFORM QUERY AGAIN---\n",
      "\n",
      "\n",
      "Node 'filter_relevant_documents':\n",
      "---REFINE QUERY---\n",
      "---IMPROVED QUERY---\n",
      "What is the name of the deepest lake in the world?\n",
      "\n",
      "\n",
      "Node 'refine_query':\n",
      "{'query': 'What is the name of the deepest lake in the world?', 'retrieved_docs': [], 'rewrite_count': 3}\n",
      "---FETCH DOCUMENTS---\n",
      "\n",
      "\n",
      "Node 'fetch_documents':\n",
      "---EVALUATE DOCUMENT RELEVANCE---\n",
      "https://d2l.ai/chapter_computer-vision/ Score: No\n",
      "https://www.geeksforgeeks.org/region-proposal-network-rpn-in-object-detection/ Score: No\n",
      "https://www.geeksforgeeks.org/introduction-convolution-neural-network/ Score: No\n",
      "https://www.geeksforgeeks.org/introduction-convolution-neural-network/ Score: No\n",
      "---NO RELEVANT DOCUMENTS FOUND---\n",
      "---ASSESSING DOCUMENT RELEVANCE---\n",
      "---DECISION: MAX REWRITES REACHED AND NO RELEVANT DOCUMENTS FOUND → LETS APPLY WEB SEARCH---\n",
      "\n",
      "\n",
      "Node 'filter_relevant_documents':\n",
      "\n",
      "\n",
      "Node 'web_search':\n",
      "---GENERATE RESPONSE---\n",
      "\n",
      "\n",
      "Node 'generate_response':\n",
      "The deepest lake in the world is Lake Baikal, located in Siberia, Russia. It reaches a depth of approximately 5,369 feet (1,637 meters). Additionally, it is the largest freshwater lake by volume, containing over 20% of the world's unfrozen freshwater.\n"
     ]
    }
   ],
   "source": [
    "inputs = {\"query\": \"What is the deepest lake on the world?\"}\n",
    "for output in retrieval_qa_pipeline.stream(inputs):\n",
    "    for key, value in output.items():\n",
    "        # Node\n",
    "        print(\"\\n\")\n",
    "        print(f\"Node '{key}':\")\n",
    "# Final generation\n",
    "print(value[\"llm_output\"])"
   ]
  },
  {
   "cell_type": "code",
   "execution_count": 18,
   "metadata": {},
   "outputs": [
    {
     "name": "stdout",
     "output_type": "stream",
     "text": [
      "---INITIALIZE QUERY STATE---\n",
      "\n",
      "\n",
      "Node 'initialize_state':\n",
      "{'query': 'Who is Donal Trump?', 'rewrite_count': 0}\n",
      "---FETCH DOCUMENTS---\n",
      "\n",
      "\n",
      "Node 'fetch_documents':\n",
      "---EVALUATE DOCUMENT RELEVANCE---\n",
      "https://www.geeksforgeeks.org/region-proposal-network-rpn-in-object-detection/ Score: No\n",
      "https://www.geeksforgeeks.org/introduction-convolution-neural-network/ Score: No\n",
      "https://www.geeksforgeeks.org/region-proposal-network-rpn-in-object-detection/ Score: No\n",
      "https://www.geeksforgeeks.org/what-is-ordinal-data/ Score: No\n",
      "---NO RELEVANT DOCUMENTS FOUND---\n",
      "---ASSESSING DOCUMENT RELEVANCE---\n",
      "---DECISION: NO RELEVANT DOCUMENTS FOUND YET → TRANSFORM QUERY AGAIN---\n",
      "\n",
      "\n",
      "Node 'filter_relevant_documents':\n",
      "---REFINE QUERY---\n",
      "---IMPROVED QUERY---\n",
      "Who is Donald Trump?\n",
      "\n",
      "\n",
      "Node 'refine_query':\n",
      "{'query': 'Who is Donald Trump?', 'retrieved_docs': [], 'rewrite_count': 1}\n",
      "---FETCH DOCUMENTS---\n",
      "\n",
      "\n",
      "Node 'fetch_documents':\n",
      "---EVALUATE DOCUMENT RELEVANCE---\n",
      "https://www.geeksforgeeks.org/region-proposal-network-rpn-in-object-detection/ Score: No\n",
      "https://www.geeksforgeeks.org/what-is-ordinal-data/ Score: No\n",
      "https://www.geeksforgeeks.org/introduction-convolution-neural-network/ Score: No\n",
      "https://www.geeksforgeeks.org/region-proposal-network-rpn-in-object-detection/ Score: No\n",
      "---NO RELEVANT DOCUMENTS FOUND---\n",
      "---ASSESSING DOCUMENT RELEVANCE---\n",
      "---DECISION: NO RELEVANT DOCUMENTS FOUND YET → TRANSFORM QUERY AGAIN---\n",
      "\n",
      "\n",
      "Node 'filter_relevant_documents':\n",
      "---REFINE QUERY---\n",
      "---IMPROVED QUERY---\n",
      "\"Can you provide a brief overview of Donald Trump's background and career?\"\n",
      "\n",
      "\n",
      "Node 'refine_query':\n",
      "{'query': '\"Can you provide a brief overview of Donald Trump\\'s background and career?\"', 'retrieved_docs': [], 'rewrite_count': 2}\n",
      "---FETCH DOCUMENTS---\n",
      "\n",
      "\n",
      "Node 'fetch_documents':\n",
      "---EVALUATE DOCUMENT RELEVANCE---\n",
      "https://www.geeksforgeeks.org/what-is-ordinal-data/ Score: No\n",
      "https://www.geeksforgeeks.org/region-proposal-network-rpn-in-object-detection/ Score: No\n",
      "https://www.geeksforgeeks.org/introduction-convolution-neural-network/ Score: No\n",
      "https://www.geeksforgeeks.org/what-is-ordinal-data/ Score: No\n",
      "---NO RELEVANT DOCUMENTS FOUND---\n",
      "---ASSESSING DOCUMENT RELEVANCE---\n",
      "---DECISION: NO RELEVANT DOCUMENTS FOUND YET → TRANSFORM QUERY AGAIN---\n",
      "\n",
      "\n",
      "Node 'filter_relevant_documents':\n",
      "---REFINE QUERY---\n",
      "---IMPROVED QUERY---\n",
      "\"Please summarize Donald Trump's background and career in a concise manner.\"\n",
      "\n",
      "\n",
      "Node 'refine_query':\n",
      "{'query': '\"Please summarize Donald Trump\\'s background and career in a concise manner.\"', 'retrieved_docs': [], 'rewrite_count': 3}\n",
      "---FETCH DOCUMENTS---\n",
      "\n",
      "\n",
      "Node 'fetch_documents':\n",
      "---EVALUATE DOCUMENT RELEVANCE---\n",
      "https://www.geeksforgeeks.org/what-is-ordinal-data/ Score: No\n",
      "https://www.geeksforgeeks.org/region-proposal-network-rpn-in-object-detection/ Score: No\n",
      "https://www.geeksforgeeks.org/introduction-convolution-neural-network/ Score: No\n",
      "https://www.geeksforgeeks.org/region-proposal-network-rpn-in-object-detection/ Score: No\n",
      "---NO RELEVANT DOCUMENTS FOUND---\n",
      "---ASSESSING DOCUMENT RELEVANCE---\n",
      "---DECISION: MAX REWRITES REACHED AND NO RELEVANT DOCUMENTS FOUND → LETS APPLY WEB SEARCH---\n",
      "\n",
      "\n",
      "Node 'filter_relevant_documents':\n",
      "\n",
      "\n",
      "Node 'web_search':\n",
      "---GENERATE RESPONSE---\n",
      "\n",
      "\n",
      "Node 'generate_response':\n",
      "Donald Trump is an American businessman, television personality, and politician who served as the 45th President of the United States from 2017 to 2021. He gained fame as a real estate developer and reality TV star, particularly known for the show \"The Apprentice.\" Trump's political career has been marked by his unconventional style and controversial policies.\n"
     ]
    }
   ],
   "source": [
    "inputs = {\"query\": \"Who is Donal Trump?\"}\n",
    "for output in retrieval_qa_pipeline.stream(inputs):\n",
    "    for key, value in output.items():\n",
    "        # Node\n",
    "        print(\"\\n\")\n",
    "        print(f\"Node '{key}':\")\n",
    "# Final generation\n",
    "print(value[\"llm_output\"])"
   ]
  },
  {
   "cell_type": "markdown",
   "metadata": {},
   "source": [
    "## Visualize the Graph"
   ]
  },
  {
   "cell_type": "code",
   "execution_count": 19,
   "metadata": {
    "colab": {
     "base_uri": "https://localhost:8080/",
     "height": 473
    },
    "id": "18SWafVC0Yxn",
    "outputId": "55cc9f34-d2e5-4d6c-c60c-726992960383"
   },
   "outputs": [
    {
     "data": {
      "image/png": "[encoded data removed]",
      "text/plain": [
       "<IPython.core.display.Image object>"
      ]
     },
     "metadata": {},
     "output_type": "display_data"
    }
   ],
   "source": [
    "# Visualize our graph\n",
    "from IPython.display import Image, display\n",
    "try:\n",
    "    display(Image(retrieval_qa_pipeline.get_graph().draw_mermaid_png()))\n",
    "except Exception:\n",
    "    pass"
   ]
  },
  {
   "cell_type": "code",
   "execution_count": 20,
   "metadata": {},
   "outputs": [
    {
     "name": "stdout",
     "output_type": "stream",
     "text": [
      "                                +-----------+                               \r\n",
      "                                | __start__ |                               \r\n",
      "                                +-----------+                               \r\n",
      "                                      *                                     \r\n",
      "                                      *                                     \r\n",
      "                                      *                                     \r\n",
      "                            +------------------+                            \r\n",
      "                            | initialize_state |                            \r\n",
      "                            +------------------+                            \r\n",
      "                                      *                                     \r\n",
      "                                      *                                     \r\n",
      "                                      *                                     \r\n",
      "                             +-----------------+                            \r\n",
      "                             | fetch_documents |                            \r\n",
      "                             +-----------------+**                          \r\n",
      "                             **                   *****                     \r\n",
      "                          ***                          *****                \r\n",
      "                        **                                  ****            \r\n",
      "      +---------------------------+                             ***         \r\n",
      "      | filter_relevant_documents |                               *         \r\n",
      "      +---------------------------+.....                          *         \r\n",
      "             ..            ..           ........                  *         \r\n",
      "           ..                ..                 ........          *         \r\n",
      "         ..                    ..                       ....      *         \r\n",
      "+------------+                   ..                       +--------------+  \r\n",
      "| web_search |                 ..                         | refine_query |  \r\n",
      "+------------+               ..                           +--------------+  \r\n",
      "             **            ..                                               \r\n",
      "               **        ..                                                 \r\n",
      "                 **    ..                                                   \r\n",
      "          +-------------------+                                             \r\n",
      "          | generate_response |                                             \r\n",
      "          +-------------------+                                             \r\n",
      "                     *                                                      \r\n",
      "                     *                                                      \r\n",
      "                     *                                                      \r\n",
      "               +---------+                                                  \r\n",
      "               | __end__ |                                                  \r\n",
      "               +---------+                                                  \n"
     ]
    }
   ],
   "source": [
    "# if the above fails try this (requires grandalf)\n",
    "print(retrieval_qa_pipeline.get_graph().draw_ascii())"
   ]
  },
  {
   "cell_type": "markdown",
   "metadata": {},
   "source": [
    "# Summary"
   ]
  },
  {
   "cell_type": "markdown",
   "metadata": {},
   "source": [
    "From the code above, we can see that unlike Crew.ai, LangGraph allows us to explicitly define the behavior of our agent graph. However, this comes at the cost of ease of use—there's a significant amount of boilerplate just to create a single agent, and that's not even for a multi-agent setup. Much of the code involves manually specifying each step the agent should take. On the other hand, many people expect agents to figure things out on their own without needing such detailed instructions. So, between Crew and LangGraph, we’re already seeing a split in the agent ecosystem: LangGraph takes a more hardcoded, deterministic approach where the developer dictates the entire flow, while Crew leans into the idea of smart LLMs—just give them a task and the tools, and let them decide how to proceed."
   ]
  },
  {
   "cell_type": "markdown",
   "metadata": {},
   "source": [
    " "
   ]
  }
 ],
 "metadata": {
  "colab": {
   "provenance": []
  },
  "kernelspec": {
   "display_name": "agentic_workflow",
   "language": "python",
   "name": "agentic_workflow"
  },
  "language_info": {
   "codemirror_mode": {
    "name": "ipython",
    "version": 3
   },
   "file_extension": ".py",
   "mimetype": "text/x-python",
   "name": "python",
   "nbconvert_exporter": "python",
   "pygments_lexer": "ipython3",
   "version": "3.12.3"
  },
  "toc": {
   "base_numbering": 1,
   "nav_menu": {},
   "number_sections": true,
   "sideBar": true,
   "skip_h1_title": false,
   "title_cell": "Table of Contents",
   "title_sidebar": "Contents",
   "toc_cell": true,
   "toc_position": {
    "height": "calc(100% - 180px)",
    "left": "10px",
    "top": "150px",
    "width": "297.958px"
   },
   "toc_section_display": true,
   "toc_window_display": true
  },
  "varInspector": {
   "cols": {
    "lenName": 16,
    "lenType": 16,
    "lenVar": 40
   },
   "kernels_config": {
    "python": {
     "delete_cmd_postfix": "",
     "delete_cmd_prefix": "del ",
     "library": "var_list.py",
     "varRefreshCmd": "print(var_dic_list())"
    },
    "r": {
     "delete_cmd_postfix": ") ",
     "delete_cmd_prefix": "rm(",
     "library": "var_list.r",
     "varRefreshCmd": "cat(var_dic_list()) "
    }
   },
   "types_to_exclude": [
    "module",
    "function",
    "builtin_function_or_method",
    "instance",
    "_Feature"
   ],
   "window_display": false
  }
 },
 "nbformat": 4,
 "nbformat_minor": 4
}
